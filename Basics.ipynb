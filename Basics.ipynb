{
  "nbformat": 4,
  "nbformat_minor": 0,
  "metadata": {
    "colab": {
      "provenance": []
    },
    "kernelspec": {
      "name": "python3",
      "display_name": "Python 3"
    },
    "language_info": {
      "name": "python"
    }
  },
  "cells": [
    {
      "cell_type": "markdown",
      "source": [
        "# basics of python"
      ],
      "metadata": {
        "id": "_oSUpWx6BrR1"
      }
    },
    {
      "cell_type": "markdown",
      "source": [
        "## Assignment Theory Questions"
      ],
      "metadata": {
        "id": "634CFJW6COGT"
      }
    },
    {
      "cell_type": "markdown",
      "source": [
        "1. what is python, and why is it popular?\n",
        "\n",
        "-> the python is the  high-level programming language it is popular becaues the python is readable and versatil language\n",
        "which is used in varial domen such as (ai,mi,ds etc).\n",
        "\n",
        "2. what is an interpreter in python?\n",
        "-> interpreter means the program that read and executes your python code line by line.\n",
        "\n",
        "3. what are pre-defined keywords in python?\n",
        "-> the pre-defined keywords are reserverd world in the python that have special meanings we cant yours (like varible name, function name, etc).\n",
        "--False  clas  True  def  None  continue  for  from  while  \n",
        "and  not  with  as  elif  if  or  break  pass  in  is global assert  raise  import ......\n",
        "\n",
        "4. can keywords be used as variable names?\n",
        "-> no keywords in python cannot be used as variable name.\n",
        "\n",
        "5. what is mutability in python?\n",
        "-> the mutabilitty means here we change/updating the value.\n",
        "\n",
        "6. why are lists mutable, but tuple are immutable?\n",
        "-> becaues the list are designed flexible dynamic collections you can append,remove, or change elements were the tuple are fixed-size which them hashable.\n",
        "\n",
        "7. what is the difference between \"==\" and \"is\" operator in python?\n",
        "-> equal opreator checking the value is equal to or not equal to. \"is\" opreator returns true if both the variable having same object.\n",
        "\n",
        "8. what are the logical operators in python?\n",
        "-> and, or, and not>> are lodical opreators\n",
        "-returns true if both statement are true.\n",
        "-returns true if one statement are true.\n",
        "-reverse the result false if the result is true.\n",
        "\n",
        "9. what is the type casting in python?\n",
        "-> converting a value from one data type to another data type.\n",
        "\n",
        "10. what is the difference between implicit and explicit type casting?\n",
        "-> python automatically converts types when needed(eg. 3+4.5, the becomes 3.0).\n",
        "-> convert data type using inbuit function means int(),\n",
        "float(), str(),etc.\n",
        "\n",
        "11. what is the purpose of the conditional statements in python?\n",
        "-> help you to code dicisions based on same preconditions.\n",
        "based on whether a condition evaluates to true or false.control the flow of our program.\n",
        "\n",
        "12. how does the elif statement work?\n",
        "-> python evaluates each condition in order; when one is true, its block runs and the rest are skipped.\n",
        "\n",
        "13. what is the difference between for and while loops?\n",
        "-> for loop: iterates over a known sequence(list, string, range, etc).\n",
        "while loop: Repeats as long as a given condition remains true.\n",
        "\n",
        "14. describe a scenario where a while loop is more suitable than a for loop?\n",
        "-> when you do not know in advance how many iterations you need, but rather continue until a condition changes."
      ],
      "metadata": {
        "id": "Sj6Hfwo7CnCu"
      }
    },
    {
      "cell_type": "markdown",
      "source": [
        "## Assignment practical Questions"
      ],
      "metadata": {
        "id": "8M-n3h3Jj9yc"
      }
    },
    {
      "cell_type": "code",
      "source": [
        "# 1. print \"Hello,World!\"\n",
        "print(\"Hello,world!!\")"
      ],
      "metadata": {
        "colab": {
          "base_uri": "https://localhost:8080/"
        },
        "id": "KKEi39SulJ2t",
        "outputId": "f9bee754-c814-4294-e270-74b73e308ae5"
      },
      "execution_count": null,
      "outputs": [
        {
          "output_type": "stream",
          "name": "stdout",
          "text": [
            "Hello,world!!\n"
          ]
        }
      ]
    },
    {
      "cell_type": "code",
      "source": [
        "# 2. display your name and age\n",
        "name = \"kartik\"\n",
        "age = 18\n",
        "print(f\"my name is {name} and i am {age} year old.\")"
      ],
      "metadata": {
        "colab": {
          "base_uri": "https://localhost:8080/"
        },
        "id": "A8OgLudSloZ3",
        "outputId": "d9d3d911-013b-4e40-8388-6c07da3d7343"
      },
      "execution_count": null,
      "outputs": [
        {
          "output_type": "stream",
          "name": "stdout",
          "text": [
            "my name is kartik and i am 18 year old.\n"
          ]
        }
      ]
    },
    {
      "cell_type": "code",
      "source": [
        "# 3. print all predefined keywords in python\n",
        "help('keywords')"
      ],
      "metadata": {
        "colab": {
          "base_uri": "https://localhost:8080/"
        },
        "id": "hdc3iwWOm5jF",
        "outputId": "de2497a9-6e2b-4312-ca00-c5bb4c15f0fc"
      },
      "execution_count": null,
      "outputs": [
        {
          "output_type": "stream",
          "name": "stdout",
          "text": [
            "\n",
            "Here is a list of the Python keywords.  Enter any keyword to get more help.\n",
            "\n",
            "False               class               from                or\n",
            "None                continue            global              pass\n",
            "True                def                 if                  raise\n",
            "and                 del                 import              return\n",
            "as                  elif                in                  try\n",
            "assert              else                is                  while\n",
            "async               except              lambda              with\n",
            "await               finally             nonlocal            yield\n",
            "break               for                 not                 \n",
            "\n"
          ]
        }
      ]
    },
    {
      "cell_type": "code",
      "source": [
        "# 4. check if given world is a pyhon keyword\n",
        "import keyword\n",
        "\n",
        "def iskeyword(world):\n",
        "  return keyword.iskeyword(world)\n",
        "\n",
        "print(iskeyword(\"for\"))\n",
        "print(iskeyword(\"hello\"))"
      ],
      "metadata": {
        "colab": {
          "base_uri": "https://localhost:8080/"
        },
        "id": "V2WRcxrNn54T",
        "outputId": "06e23461-d93e-4200-a4b9-4742e92f3a44"
      },
      "execution_count": 14,
      "outputs": [
        {
          "output_type": "stream",
          "name": "stdout",
          "text": [
            "True\n",
            "False\n"
          ]
        }
      ]
    },
    {
      "cell_type": "code",
      "source": [
        "# 5. list vs tuple mutability demonstration\n",
        "list = [1, 2, 3, 4, 5]\n",
        "list[0] = 100\n",
        "print(list)\n",
        "\n",
        "tuple = (22, 33, 44, 55)\n",
        "print(\"tuple is immutable:\",tuple)"
      ],
      "metadata": {
        "id": "aac5JS7itnMu",
        "colab": {
          "base_uri": "https://localhost:8080/"
        },
        "outputId": "06a25f28-c4e8-4ff2-de03-0077f6553304"
      },
      "execution_count": 17,
      "outputs": [
        {
          "output_type": "stream",
          "name": "stdout",
          "text": [
            "[100, 2, 3, 4, 5]\n",
            "tuple is immutable: (22, 33, 44, 55)\n"
          ]
        }
      ]
    },
    {
      "cell_type": "code",
      "source": [
        "# 6."
      ],
      "metadata": {
        "id": "CU2UnfXIJbHq"
      },
      "execution_count": null,
      "outputs": []
    },
    {
      "cell_type": "code",
      "source": [
        "# 7. basic arithmetic operators on two user-input number\n",
        "num1 = int(input(\"enter a num1:\"))\n",
        "num2 = int(input(\"enter a num2:\"))\n",
        "\n",
        "print(\"sum:\", num1 + num2)\n",
        "print(\"sub:\", num1 - num2)\n",
        "print(\"mult:\", num1 * num2)\n",
        "print(\"div:\", num1 / num2)\n",
        "print(\"mod:\", num1 % num2)\n",
        "print(\"expo:\", num1 ** num2)\n",
        "print(\"floor div:\", num1 // num2)"
      ],
      "metadata": {
        "id": "tv57bxoEJnvj",
        "outputId": "a4d63dcc-67f4-4ead-bd76-14d1bb9cc67a",
        "colab": {
          "base_uri": "https://localhost:8080/"
        }
      },
      "execution_count": 18,
      "outputs": [
        {
          "output_type": "stream",
          "name": "stdout",
          "text": [
            "enter a num1:12\n",
            "enter a num2:12\n",
            "sum: 24\n",
            "sub: 0\n",
            "mult: 144\n",
            "div: 1.0\n",
            "mod: 0\n",
            "expo: 8916100448256\n",
            "floor div: 1\n"
          ]
        }
      ]
    },
    {
      "cell_type": "code",
      "source": [
        "# 8. demonstrate logical operators\n",
        "x = True\n",
        "y = False\n",
        "\n",
        "print(\"x and y:\", x and y)\n",
        "print(\"x or y:\", x or y)\n",
        "print(\"not x:\", not x)"
      ],
      "metadata": {
        "id": "6XS3pw4rLt6C",
        "outputId": "b167b80d-dcd6-49d0-f672-eb5556792e83",
        "colab": {
          "base_uri": "https://localhost:8080/"
        }
      },
      "execution_count": 19,
      "outputs": [
        {
          "output_type": "stream",
          "name": "stdout",
          "text": [
            "x and y: False\n",
            "x or y: True\n",
            "not x: False\n"
          ]
        }
      ]
    },
    {
      "cell_type": "code",
      "source": [
        "# 9. convert user input from string to int, float, bool\n",
        "s = input(\"enter something:\")\n",
        "to_int = int(s)\n",
        "to_float = float(s)\n",
        "to_bool = bool(s)\n",
        "print(to_int, to_float, to_bool)"
      ],
      "metadata": {
        "id": "aAo58IrnMxye",
        "outputId": "85699570-fd29-497e-95fa-a7b819ff9ab7",
        "colab": {
          "base_uri": "https://localhost:8080/"
        }
      },
      "execution_count": 24,
      "outputs": [
        {
          "output_type": "stream",
          "name": "stdout",
          "text": [
            "enter something:2\n",
            "2 2.0 True\n"
          ]
        }
      ]
    },
    {
      "cell_type": "code",
      "source": [
        "# 10. type casting  with list elements\n",
        "list = [\"10\", 2.5, \"True\"]\n",
        "list[0] = float(x)\n",
        "list[1] = int(x)\n",
        "list[2] = bool(x)\n",
        "print(list)"
      ],
      "metadata": {
        "id": "FPJALuOAQDE3",
        "outputId": "3093a81a-c8dc-4e07-9f15-b1f6de805a8f",
        "colab": {
          "base_uri": "https://localhost:8080/"
        }
      },
      "execution_count": 37,
      "outputs": [
        {
          "output_type": "stream",
          "name": "stdout",
          "text": [
            "[1.0, 1, True]\n"
          ]
        }
      ]
    },
    {
      "cell_type": "code",
      "source": [
        "# 11. check if a number is positive, negative or zero\n",
        "num = int(input(\"enetr a number:\"))\n",
        "\n",
        "if num > 0:\n",
        "  print(\"the number is positive\")\n",
        "\n",
        "elif num < 0:\n",
        "  print(\"the number is neagative\")\n",
        "\n",
        "else:\n",
        "  print(\"the number is zero\")"
      ],
      "metadata": {
        "id": "PELrHZqoThg6",
        "outputId": "cdb7c808-3b20-4ca2-8d55-a67af50bc886",
        "colab": {
          "base_uri": "https://localhost:8080/"
        }
      },
      "execution_count": 39,
      "outputs": [
        {
          "output_type": "stream",
          "name": "stdout",
          "text": [
            "enetr a number:-2\n",
            "the number is neagative\n"
          ]
        }
      ]
    },
    {
      "cell_type": "code",
      "source": [
        "# 12. for-loop to print 1 to 11\n",
        "for i in range(1, 11):\n",
        "  print(i)"
      ],
      "metadata": {
        "id": "RBWwqqqnU6-i",
        "outputId": "663a9cc5-f532-403d-ea6e-0267ba3489b2",
        "colab": {
          "base_uri": "https://localhost:8080/"
        }
      },
      "execution_count": 40,
      "outputs": [
        {
          "output_type": "stream",
          "name": "stdout",
          "text": [
            "1\n",
            "2\n",
            "3\n",
            "4\n",
            "5\n",
            "6\n",
            "7\n",
            "8\n",
            "9\n",
            "10\n"
          ]
        }
      ]
    },
    {
      "cell_type": "code",
      "source": [
        "# 13. sum all even numbers between 1 and 50\n",
        "num = sum(i for i in range(1, 51)if i % 2 == 0)\n",
        "print(\"sum of evens 1-50:\", num)"
      ],
      "metadata": {
        "id": "Yq4knFnrVcKO",
        "outputId": "9cd9550e-90fb-42ec-8097-1d995abe6032",
        "colab": {
          "base_uri": "https://localhost:8080/"
        }
      },
      "execution_count": 45,
      "outputs": [
        {
          "output_type": "stream",
          "name": "stdout",
          "text": [
            "sum of evens 1-50: 650\n"
          ]
        }
      ]
    },
    {
      "cell_type": "code",
      "source": [
        "# 14. reverse the string using the while loop\n",
        "s = input(\"enter a string:\")\n",
        "rev = \"\"\n",
        "i = len(s)-1\n",
        "while i > 0:\n",
        "  rev += s[i]\n",
        "  i -= 1\n",
        "print(\"reversed:\",rev)"
      ],
      "metadata": {
        "id": "n3ahxGWqV9dX",
        "outputId": "91f1ad23-b291-4bb3-d3fb-7a94829fc942",
        "colab": {
          "base_uri": "https://localhost:8080/"
        }
      },
      "execution_count": 46,
      "outputs": [
        {
          "output_type": "stream",
          "name": "stdout",
          "text": [
            "enter a string:sunskruti\n",
            "reversed: iturksnu\n"
          ]
        }
      ]
    },
    {
      "cell_type": "code",
      "source": [
        "# 15. calculate factorial of a user-provided number using while\n",
        "n = int(input(\"enetr a nonneagative integer:\"))\n",
        "fact = 1\n",
        "i = 1\n",
        "while i <= n:\n",
        "  fact *= i\n",
        "  i +=1\n",
        "print(f\"{n}!={fact}\")"
      ],
      "metadata": {
        "id": "641hsywmY0NX",
        "outputId": "cd96339b-a5d6-46a2-ce39-d9bdb2d2198a",
        "colab": {
          "base_uri": "https://localhost:8080/"
        }
      },
      "execution_count": 47,
      "outputs": [
        {
          "output_type": "stream",
          "name": "stdout",
          "text": [
            "enetr a nonneagative integer:9\n",
            "9!=362880\n"
          ]
        }
      ]
    },
    {
      "cell_type": "markdown",
      "source": [
        "## the Assignment is end.....!"
      ],
      "metadata": {
        "id": "rBwFAoHyaV9P"
      }
    }
  ]
}